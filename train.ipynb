{
 "cells": [
  {
   "cell_type": "code",
   "execution_count": 37,
   "metadata": {},
   "outputs": [
    {
     "name": "stdout",
     "output_type": "stream",
     "text": [
      "  (0, 24905)\t0.0474637850365411\n",
      "  (0, 29239)\t0.17237619237577756\n",
      "  (0, 17780)\t0.0473435526633286\n",
      "  (0, 13493)\t0.1660694191919901\n",
      "  (0, 2639)\t0.3134619458437675\n",
      "  (0, 28981)\t0.245556906575146\n",
      "  (0, 28657)\t0.3012320234031567\n",
      "  (0, 29845)\t0.3134619458437675\n",
      "  (0, 39489)\t0.11461858754100512\n",
      "  (0, 14310)\t0.2716475648346139\n",
      "  (0, 22193)\t0.23979416477380422\n",
      "  (0, 38164)\t0.225454102408431\n",
      "  (0, 13770)\t0.3012320234031567\n",
      "  (0, 15854)\t0.28032483289857985\n",
      "  (0, 26603)\t0.2547680416743478\n",
      "  (0, 22639)\t0.14602820299983224\n",
      "  (0, 22812)\t0.25700333821046595\n",
      "  (0, 23772)\t0.2716475648346139\n",
      "Accuracy: 0.94 (+/- 0.02)\n"
     ]
    }
   ],
   "source": [
    "import pandas as pd\n",
    "import numpy as np\n",
    "import pickle\n",
    "from sklearn.ensemble import RandomForestClassifier\n",
    "from sklearn.model_selection import cross_val_score\n",
    "from sklearn.feature_extraction.text import TfidfVectorizer\n",
    "from sklearn.model_selection import train_test_split\n",
    "from sklearn.metrics import classification_report\n",
    "import seaborn as sns\n",
    "from sklearn.metrics import confusion_matrix\n",
    "import matplotlib.pyplot as plt\n",
    "\n",
    "# Load CSV file containing URLs\n",
    "data = pd.read_csv('dataset/dataset.csv',encoding= 'unicode_escape')\n",
    "vectorizer = TfidfVectorizer()\n",
    "X = vectorizer.fit_transform(data['Url'])\n",
    "y = np.array(data['Label'])\n",
    "X_train, X_test, y_train, y_test = train_test_split(X,y, test_size=0.3, random_state=42)\n",
    "\n",
    "# Train random forest model\n",
    "model = RandomForestClassifier(n_estimators=100, max_depth=5, random_state=42)\n",
    "model.fit(X_train, y_train)\n",
    "y_pred = model.predict(X_test)\n",
    "scores = cross_val_score(model, X, y, cv=5)\n",
    "\n",
    "# Calculate the performance metrics and display them\n",
    "report = classification_report(y_test, y_pred)\n",
    "print(report)\n",
    "\n",
    "# Calculate the confusion matrix\n",
    "cm = confusion_matrix(y_test,y_pred, normalize='true')\n",
    "\n",
    "# Plot the confusion matrix using Seaborn heatmap\n",
    "sns.heatmap(cm*100, annot=True, cmap='Blues', fmt='g', xticklabels=['Safe', 'Phishing'], yticklabels=['Safe', 'Phishing'])\n",
    "plt.xlabel('Predicted')\n",
    "plt.ylabel('True')\n",
    "plt.title('Confusion Matrix')\n",
    "\n",
    "# Show the plot\n",
    "plt.show()\n",
    "\n",
    "# Print the Accuracy\n",
    "print('Accuracy: %0.2f (+/- %0.2f)' % (scores.mean(), scores.std() * 2))\n",
    "\n",
    "# Save the model using pickle library\n",
    "with open('vector/vector.pickle','wb') as file:\n",
    "    pickle.dump(vectorizer, file)\n",
    "with open('classifier/random_forest.pkl','wb') as file:\n",
    "    pickle.dump(model, file)"
   ]
  },
  {
   "cell_type": "code",
   "execution_count": 38,
   "metadata": {},
   "outputs": [
    {
     "name": "stdout",
     "output_type": "stream",
     "text": [
      "              precision    recall  f1-score   support\n",
      "\n",
      "           0       0.97      0.93      0.95      3550\n",
      "           1       0.93      0.97      0.95      3648\n",
      "\n",
      "    accuracy                           0.95      7198\n",
      "   macro avg       0.95      0.95      0.95      7198\n",
      "weighted avg       0.95      0.95      0.95      7198\n",
      "\n"
     ]
    }
   ],
   "source": [
    "from sklearn.metrics import classification_report\n",
    "report = classification_report(y_test, y_pred)\n",
    "print(report)"
   ]
  },
  {
   "cell_type": "code",
   "execution_count": 40,
   "metadata": {},
   "outputs": [
    {
     "data": {
      "image/png": "[encoded data removed]",
      "text/plain": [
       "<Figure size 432x288 with 2 Axes>"
      ]
     },
     "metadata": {
      "needs_background": "light"
     },
     "output_type": "display_data"
    }
   ],
   "source": [
    "import seaborn as sns\n",
    "from sklearn.metrics import confusion_matrix\n",
    "import matplotlib.pyplot as plt\n",
    "\n",
    "# Calculate the confusion matrix\n",
    "cm = confusion_matrix(y_test,y_pred, normalize='true')\n",
    "\n",
    "# Plot the confusion matrix using Seaborn heatmap\n",
    "sns.heatmap(cm*100, annot=True, cmap='Blues', fmt='g', xticklabels=['Safe', 'Phishing'], yticklabels=['Safe', 'Phishing'])\n",
    "plt.xlabel('Predicted')\n",
    "plt.ylabel('True')\n",
    "plt.title('Confusion Matrix')\n",
    "\n",
    "# Show the plot\n",
    "plt.show()"
   ]
  }
 ],
 "metadata": {
  "kernelspec": {
   "display_name": "Python 3",
   "language": "python",
   "name": "python3"
  },
  "language_info": {
   "codemirror_mode": {
    "name": "ipython",
    "version": 3
   },
   "file_extension": ".py",
   "mimetype": "text/x-python",
   "name": "python",
   "nbconvert_exporter": "python",
   "pygments_lexer": "ipython3",
   "version": "3.6.7"
  },
  "orig_nbformat": 4
 },
 "nbformat": 4,
 "nbformat_minor": 2
}
